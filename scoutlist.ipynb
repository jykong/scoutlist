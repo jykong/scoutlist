{
 "cells": [
  {
   "cell_type": "markdown",
   "metadata": {},
   "source": [
    "# Scoutlist\n",
    "\n",
    "## Overview\n",
    "\n",
    "Scoutlist is a playlist track aggregator for efficient music discovery. Scoutlist helps DJs or other music enthusiants searching for new music that are tired of switching between playlists and skipping songs they've already heard. Scoulist aggregates tracks from a list of user-specified source playlists into a single generated playlist. The generated playlist is free of duplicate tracks and tracks from other user-specified already-listened-to playlists.\n",
    "\n",
    "Scoutlist is written in Python 3 and uses the Spotify API via the Spotipy library.\n",
    "\n",
    "If you're using this notebook with multiple users, it's recommended that you make a copy of this for each user."
   ]
  },
  {
   "cell_type": "code",
   "execution_count": null,
   "metadata": {},
   "outputs": [],
   "source": [
    "%load_ext autoreload\n",
    "%autoreload 2\n",
    "\n",
    "import scoutlist as scl\n",
    "from scoutlist import Playlist"
   ]
  },
  {
   "cell_type": "markdown",
   "metadata": {},
   "source": [
    "### 1. Authentication\n",
    "\n",
    "Due to Spotipy's design, this step is fairly hackish.\n",
    "\n",
    "Before attempting this step, be sure to populate app_credentials.json. Follow this link for more info on how to do that: http://spotipy.readthedocs.io/en/latest/#authorized-requests\n",
    "\n",
    "Username is the user ID of the user account who's playlists Scoutlist will access and add to. To find your Spotify username manually, go to profile -> share -> copy URL. All the characters after the last slash (/) are the username.\n",
    "\n",
    "If this is the user's first time authenticating or the user's token is expired, authenticate() will open a URL in your web browser requesting authentication permission. Prior to calling authenicate() make sure no other users are logged into Spotify in your web browser. Same goes for Facebook if the user is using a Facebook login.\n",
    "\n",
    "After logging in, you'll be redirected to a localhost URL. It should show a not found error. Don't worry about it. Just copy paste the URL from the web browser into the input field that should appear in the authenticate() output.\n",
    "\n",
    "Spotipy caches the token in a .cache-{username} file in the script folder so you don't have to reauthenticate every time you run the script. If you want to force a reauthentication, delete the .cache-{username} file.\n",
    "\n",
    "Sometimes this doesn't work the first time. Just try again."
   ]
  },
  {
   "cell_type": "code",
   "execution_count": null,
   "metadata": {},
   "outputs": [],
   "source": [
    "username = ''"
   ]
  },
  {
   "cell_type": "code",
   "execution_count": null,
   "metadata": {},
   "outputs": [],
   "source": [
    "sp = scl.authenticate(username)"
   ]
  },
  {
   "cell_type": "markdown",
   "metadata": {},
   "source": [
    "### 2. Inspect User's Playlists (optional, recommended)\n",
    "\n",
    "Prints out all of the authenticated user's playlists, including playlist name, owner id, and playlist id."
   ]
  },
  {
   "cell_type": "code",
   "execution_count": null,
   "metadata": {},
   "outputs": [],
   "source": [
    "scl.inspect_playlists(sp)"
   ]
  },
  {
   "cell_type": "markdown",
   "metadata": {},
   "source": [
    "### 3. Specify Source Playlists\n",
    "\n",
    "List source playlists to pull tracks from. Copy paste entire lines from step 2."
   ]
  },
  {
   "cell_type": "code",
   "execution_count": null,
   "metadata": {},
   "outputs": [],
   "source": [
    "source_playlists = [\n",
    "\n",
    "]"
   ]
  },
  {
   "cell_type": "markdown",
   "metadata": {},
   "source": [
    "### 4. Specify Playlists with Tracks to Exclude\n",
    "\n",
    "List playlists with tracks to exclude -- tracks you've already listened to and don't want to listen to when looking for new music. Tracks from these playlists will not be added to the scout playlist. Copy paste entire lines from step 2."
   ]
  },
  {
   "cell_type": "code",
   "execution_count": null,
   "metadata": {},
   "outputs": [],
   "source": [
    "exclude_playlists = [\n",
    "\n",
    "]"
   ]
  },
  {
   "cell_type": "markdown",
   "metadata": {},
   "source": [
    "Feel free to do Cell -> Run All Below, as there's no necessary user input from here."
   ]
  },
  {
   "cell_type": "markdown",
   "metadata": {},
   "source": [
    "### 3. Aggregate Excluded Tracks\n",
    "\n",
    "Aggregates tracks across exclude_playlists into a single set."
   ]
  },
  {
   "cell_type": "code",
   "execution_count": null,
   "metadata": {},
   "outputs": [],
   "source": [
    "excluded_tracks = scl.aggregate_excluded_tracks(sp, exclude_playlists)"
   ]
  },
  {
   "cell_type": "markdown",
   "metadata": {},
   "source": [
    "### 4. Build Scout Playlist\n",
    "\n",
    "Aggregates tracks across source_playlist, excluding excluded tracks, and outputs a list tracks of length output_len. Included tracks are sorted by last added date."
   ]
  },
  {
   "cell_type": "code",
   "execution_count": 1,
   "metadata": {},
   "outputs": [],
   "source": [
    "output_len = 30"
   ]
  },
  {
   "cell_type": "code",
   "execution_count": null,
   "metadata": {},
   "outputs": [],
   "source": [
    "included_tracks = scl.aggregate_source_tracks(sp, source_playlists, excluded_tracks, output_len)"
   ]
  },
  {
   "cell_type": "markdown",
   "metadata": {},
   "source": [
    "### 6. Create Scoutlist\n",
    "\n",
    "Generates a scoutlist with today's date & time as unique text."
   ]
  },
  {
   "cell_type": "code",
   "execution_count": null,
   "metadata": {},
   "outputs": [],
   "source": [
    "playlist_id = scl.create_scoutlist(sp, username)"
   ]
  },
  {
   "cell_type": "markdown",
   "metadata": {},
   "source": [
    "### 7. Add Tracks\n",
    "\n",
    "Adds included_tracks to the scoutlist."
   ]
  },
  {
   "cell_type": "code",
   "execution_count": null,
   "metadata": {},
   "outputs": [],
   "source": [
    "scl.add_playlist_tracks(sp, username, playlist_id, included_tracks)"
   ]
  },
  {
   "cell_type": "markdown",
   "metadata": {},
   "source": [
    "All done! Check the user's playlists in Spotify. It should be on top."
   ]
  }
 ],
 "metadata": {
  "kernelspec": {
   "display_name": "Python 3",
   "language": "python",
   "name": "python3"
  },
  "language_info": {
   "codemirror_mode": {
    "name": "ipython",
    "version": 3
   },
   "file_extension": ".py",
   "mimetype": "text/x-python",
   "name": "python",
   "nbconvert_exporter": "python",
   "pygments_lexer": "ipython3",
   "version": "3.6.3"
  }
 },
 "nbformat": 4,
 "nbformat_minor": 2
}
